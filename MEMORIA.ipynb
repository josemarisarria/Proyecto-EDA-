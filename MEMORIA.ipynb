{
 "cells": [
  {
   "cell_type": "markdown",
   "metadata": {},
   "source": [
    "#                                        MEMORIA   \n",
    "\n",
    "\n",
    "# El proyecto se va a basar en un análisis de la situación actual en el sector eléctrico con el plan de cero emisiones para el año 2050, análisis:\n",
    "            ## Situación eléctrica mundial: \n",
    "                ## Estudio de las renovables más significativas: (Solar y eólica)\n",
    "                    * Producción Solar \n",
    "                    * Producción eólica\n",
    "            ## Situación coches eléctricos\n",
    "            \n",
    "### El estudio se basará en Europa, sin embargo, viene bien conocer los datos de países fuera de Europa \n",
    "### Para el año 2050 se espera que la producción de energía renovable sea del 90% consumo\n",
    "### En base al estudio la Unión Europea va a dar ayudas y va a marcar unas directrices. \n",
    "### El estudio, en este caso es el punto de partida del camino a recorrer de acuerdo la Comisión Europea"
   ]
  },
  {
   "cell_type": "markdown",
   "metadata": {},
   "source": [
    "# ARCHIVOS / BASE DE DATOS CSV \n",
    "### Utilizo distintos data frames para la obtención de datos  :\n",
    "    - Generación de eóloica\n",
    "    - Generación solar \n",
    "    - porcentaje de renovables \n",
    "    - estadísticas de ventas de coches eléctricos"
   ]
  },
  {
   "cell_type": "markdown",
   "metadata": {},
   "source": [
    "# ARCHIVOS CREADOS / PNG DE GRAFICAS\n",
    "### Todos ellos en las carpetas del codigo"
   ]
  }
 ],
 "metadata": {
  "kernelspec": {
   "display_name": "Python 3",
   "language": "python",
   "name": "python3"
  },
  "language_info": {
   "name": "python",
   "version": "3.11.5"
  }
 },
 "nbformat": 4,
 "nbformat_minor": 2
}
